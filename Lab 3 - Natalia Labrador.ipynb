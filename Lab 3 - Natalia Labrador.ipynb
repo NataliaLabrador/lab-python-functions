{
 "cells": [
  {
   "cell_type": "markdown",
   "id": "25d7736c-ba17-4aff-b6bb-66eba20fbf4e",
   "metadata": {},
   "source": [
    "# Lab | Functions"
   ]
  },
  {
   "cell_type": "markdown",
   "id": "0c581062-8967-4d93-b06e-62833222f930",
   "metadata": {
    "tags": []
   },
   "source": [
    "## Exercise: Managing Customer Orders with Functions\n",
    "\n",
    "In the previous exercise, you improved the code for managing customer orders by using loops and flow control. Now, let's take it a step further and refactor the code by introducing functions.\n",
    "\n",
    "Follow the steps below to complete the exercise:\n",
    "\n",
    "1. Define a function named `initialize_inventory` that takes `products` as a parameter. Inside the function, implement the code for initializing the inventory dictionary using a loop and user input.\n",
    "\n",
    "2. Define a function named `get_customer_orders` that takes no parameters. Inside the function, implement the code for prompting the user to enter the product names using a loop. The function should return the `customer_orders` set.\n",
    "\n",
    "3. Define a function named `update_inventory` that takes `customer_orders` and `inventory` as parameters. Inside the function, implement the code for updating the inventory dictionary based on the customer orders.\n",
    "\n",
    "4. Define a function named `calculate_order_statistics` that takes `customer_orders` and `products` as parameters. Inside the function, implement the code for calculating the order statistics (total products ordered, and percentage of unique products ordered). The function should return these values.\n",
    "\n",
    "5. Define a function named `print_order_statistics` that takes `order_statistics` as a parameter. Inside the function, implement the code for printing the order statistics.\n",
    "\n",
    "6. Define a function named `print_updated_inventory` that takes `inventory` as a parameter. Inside the function, implement the code for printing the updated inventory.\n",
    "\n",
    "7. Call the functions in the appropriate sequence to execute the program and manage customer orders.\n",
    "\n",
    "Hints for functions:\n",
    "\n",
    "- Consider the input parameters required for each function and their return values.\n",
    "- Utilize function parameters and return values to transfer data between functions.\n",
    "- Test your functions individually to ensure they work correctly.\n",
    "\n",
    "\n"
   ]
  },
  {
   "cell_type": "code",
   "execution_count": 14,
   "id": "0857d6df",
   "metadata": {},
   "outputs": [
    {
     "name": "stdout",
     "output_type": "stream",
     "text": [
      "Enter the quantity of t-shirt:5\n",
      "Enter the quantity of mug:10\n",
      "Enter the quantity of hat:8\n",
      "Enter the quantity of book:11\n",
      "Enter the quantity of keychain:6\n"
     ]
    },
    {
     "data": {
      "text/plain": [
       "{'t-shirt': 5, 'mug': 10, 'hat': 8, 'book': 11, 'keychain': 6}"
      ]
     },
     "execution_count": 14,
     "metadata": {},
     "output_type": "execute_result"
    }
   ],
   "source": [
    "# Define a function that initializes the inventory\n",
    "def initialize_inventory(products):\n",
    "    products = [\"t-shirt\", \"mug\", \"hat\", \"book\", \"keychain\"]\n",
    "    inventory = {}\n",
    "    for p in products:\n",
    "        inventory[p] = int(input(\"Enter the quantity of \"+p + \":\"))\n",
    "    return inventory\n",
    "initialize_inventory(products)"
   ]
  },
  {
   "cell_type": "code",
   "execution_count": 7,
   "id": "6aa7373c",
   "metadata": {},
   "outputs": [],
   "source": [
    "# Create an empty set\n",
    "customer_orders = set()"
   ]
  },
  {
   "cell_type": "code",
   "execution_count": 12,
   "id": "339e64c7",
   "metadata": {},
   "outputs": [
    {
     "name": "stdout",
     "output_type": "stream",
     "text": [
      "Select the product you want to order: t-shirt\n",
      "You've ordered a t-shirt\n",
      "Do you want to order anything else? Yes/No: Yes\n",
      "Select the product you want to order: car\n",
      "The product you selected is not available.\n",
      "Do you want to order anything else? Yes/No: Yes\n",
      "Select the product you want to order: book\n",
      "You've ordered a book\n",
      "Do you want to order anything else? Yes/No: No\n",
      "Your order was succesful. Thank you.\n"
     ]
    },
    {
     "data": {
      "text/plain": [
       "{'book', 't-shirt'}"
      ]
     },
     "execution_count": 12,
     "metadata": {},
     "output_type": "execute_result"
    }
   ],
   "source": [
    "# Define a function that gets the customer orders\n",
    "def get_customer_orders():\n",
    "    product_chosen = input(\"Select the product you want to order: \")\n",
    "    if product_chosen in products:\n",
    "        print (\"You've ordered a\", product_chosen)\n",
    "    else:\n",
    "        print (\"The product you selected is not available.\")\n",
    "    \n",
    "    decision = input(\"Do you want to order anything else? Yes/No: \")\n",
    "\n",
    "    customer_orders.add(product_chosen)\n",
    "\n",
    "    decision = 'Yes'\n",
    "    while decision == 'Yes':\n",
    "        product_chosen = input(\"Select the product you want to order: \")\n",
    "        if product_chosen in products:\n",
    "            print (\"You've ordered a\", product_chosen)\n",
    "        else:\n",
    "            print (\"The product you selected is not available.\")\n",
    "        decision = input(\"Do you want to order anything else? Yes/No: \")\n",
    "\n",
    "    print (\"Your order was succesful. Thank you.\")\n",
    "    \n",
    "    customer_orders.add(product_chosen)\n",
    "    \n",
    "    return customer_orders\n",
    "get_customer_orders()"
   ]
  },
  {
   "cell_type": "code",
   "execution_count": 16,
   "id": "8880189f",
   "metadata": {},
   "outputs": [
    {
     "data": {
      "text/plain": [
       "{'t-shirt': 4, 'mug': 10, 'hat': 8, 'book': 10, 'keychain': 6}"
      ]
     },
     "execution_count": 16,
     "metadata": {},
     "output_type": "execute_result"
    }
   ],
   "source": [
    "# Define a function that updates the inventory\n",
    "def update_inventory(customer_orders,inventory):\n",
    "    for p in customer_orders:\n",
    "        inventory[p] = inventory[p] -1\n",
    "    \n",
    "    return inventory\n",
    "update_inventory(customer_orders,inventory)"
   ]
  },
  {
   "cell_type": "code",
   "execution_count": 22,
   "id": "0722340b",
   "metadata": {},
   "outputs": [
    {
     "data": {
      "text/plain": [
       "(2, 40.0)"
      ]
     },
     "execution_count": 22,
     "metadata": {},
     "output_type": "execute_result"
    }
   ],
   "source": [
    "# Establish some necessary variables\n",
    "total_products_ordered = len(customer_orders)\n",
    "available_products = len(products)\n",
    "percentage_products_ordered = total_products_ordered*100/available_products\n",
    "# Define a function that calculates order statistics\n",
    "def calculate_order_statistics (customer_orders,products):\n",
    "    return total_products_ordered, percentage_products_ordered\n",
    "calculate_order_statistics(customer_orders,products)"
   ]
  },
  {
   "cell_type": "code",
   "execution_count": 25,
   "id": "76cd2453",
   "metadata": {},
   "outputs": [
    {
     "name": "stdout",
     "output_type": "stream",
     "text": [
      "Order Statistics:  (2, 40.0)\n"
     ]
    }
   ],
   "source": [
    "# Establish the variable order_statistics\n",
    "order_statistics = total_products_ordered, percentage_products_ordered\n",
    "# Define a function that prints order statistics\n",
    "def print_order_statistics(order_statistics):\n",
    "    print (\"Order Statistics: \", order_statistics)\n",
    "print_order_statistics(order_statistics)"
   ]
  },
  {
   "cell_type": "code",
   "execution_count": 26,
   "id": "f6bd9d13",
   "metadata": {},
   "outputs": [
    {
     "name": "stdout",
     "output_type": "stream",
     "text": [
      "{'t-shirt': 4, 'mug': 10, 'hat': 8, 'book': 10, 'keychain': 6}\n"
     ]
    }
   ],
   "source": [
    "# Define a function that prints the updated inventory\n",
    "def print_updated_inventory(inventory):\n",
    "    print (inventory)\n",
    "print_updated_inventory(inventory)"
   ]
  }
 ],
 "metadata": {
  "kernelspec": {
   "display_name": "Python 3 (ipykernel)",
   "language": "python",
   "name": "python3"
  },
  "language_info": {
   "codemirror_mode": {
    "name": "ipython",
    "version": 3
   },
   "file_extension": ".py",
   "mimetype": "text/x-python",
   "name": "python",
   "nbconvert_exporter": "python",
   "pygments_lexer": "ipython3",
   "version": "3.11.5"
  }
 },
 "nbformat": 4,
 "nbformat_minor": 5
}
